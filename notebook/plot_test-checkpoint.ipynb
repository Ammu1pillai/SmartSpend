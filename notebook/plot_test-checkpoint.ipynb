import matplotlib.pyplot as plt
import seaborn as sns

# Load example dataset
tips = sns.load_dataset("tips")

# Create bar plot
sns.barplot(x="day", y="total_bill", data=tips)
plt.title("Average Total Bill per Day")
plt.show()
